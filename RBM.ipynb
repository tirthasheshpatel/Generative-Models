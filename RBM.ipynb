{
  "nbformat": 4,
  "nbformat_minor": 0,
  "metadata": {
    "colab": {
      "name": "RBMs.ipynb",
      "provenance": [],
      "include_colab_link": true
    },
    "kernelspec": {
      "name": "python3",
      "display_name": "Python 3"
    },
    "accelerator": "GPU"
  },
  "cells": [
    {
      "cell_type": "markdown",
      "metadata": {
        "id": "view-in-github",
        "colab_type": "text"
      },
      "source": [
        "<a href=\"https://colab.research.google.com/github/tirthasheshpatel/Generative-Models/blob/master/RBM.ipynb\" target=\"_parent\"><img src=\"https://colab.research.google.com/assets/colab-badge.svg\" alt=\"Open In Colab\"/></a>"
      ]
    },
    {
      "cell_type": "code",
      "metadata": {
        "id": "zhFYg_DpQekS",
        "colab_type": "code",
        "colab": {}
      },
      "source": [
        "import sys\n",
        "import numpy as np\n",
        "\n",
        "def sigmoid(X):\n",
        "    r\"\"\"Evaluate the sigmoid function elementwise on\n",
        "    a vector or matrix X\n",
        "\n",
        "    Parameters\n",
        "    ----------\n",
        "    X: array_like\n",
        "        Array on which the function needs to be applied\n",
        "\n",
        "    Returns\n",
        "    -------\n",
        "    sigma_X: array_like of shape `X.shape`\n",
        "        Array on which sigmoid function is applied elementwise\n",
        "    \"\"\"\n",
        "    sigma_X = 1. / (1. + np.exp(-X))\n",
        "    return sigma_X\n",
        "\n",
        "class BinaryRestrictedBoltzmannMachine(object):\n",
        "    r\"\"\"A restricted boltzmann machine model that takes\n",
        "    binary inputs and maps it to a binary latent space.\n",
        "\n",
        "    Parameters\n",
        "    ----------\n",
        "    hidden_dims: int\n",
        "        The number of hidden or latent variables in your model\n",
        "\n",
        "    Returns\n",
        "    -------\n",
        "    self : object\n",
        "    \"\"\"\n",
        "\n",
        "    def __init__(self, hidden_dims):\n",
        "        self.hidden_dims = hidden_dims\n",
        "\n",
        "    def _init_params(self, visible_dims):\n",
        "        r\"\"\"Initialize the parameters of the model\n",
        "\n",
        "        Parameters\n",
        "        ----------\n",
        "        visible_dims: int\n",
        "            The number of visible dimentations.\n",
        "        \n",
        "        Returns\n",
        "        -------\n",
        "        None\n",
        "        \"\"\"\n",
        "        self.visible_dims = visible_dims\n",
        "\n",
        "        m = self.visible_dims\n",
        "        n = self.hidden_dims\n",
        "\n",
        "        self.W = np.random.randn(m, n)\n",
        "        self.b = np.random.randn(m, 1)\n",
        "        self.c = np.random.randn(n, 1)\n",
        "\n",
        "        return None\n",
        "\n",
        "    def __gibbs_step(self, V_t):\n",
        "        r\"\"\"Take one gibbs sampling step.\n",
        "\n",
        "        Parameters\n",
        "        ----------\n",
        "        V_t: array_like\n",
        "            The values of the visible variables at time step `t`.\n",
        "\n",
        "        Returns\n",
        "        -------\n",
        "        V_tplus1: array_like\n",
        "            The value of variables at time step `t+1`.\n",
        "        \"\"\"\n",
        "        # We will first sample the hidden variables using\n",
        "        # P(H_t | V_t) => probability of observing H given V at time step t.\n",
        "        # P(V_tplus1 | H_t) => Sample new visible varaibles at time step t+1.\n",
        "        probs_H = sigmoid(self.W.T @ V_t + self.c)\n",
        "\n",
        "        # One more thing, this is called \"block\" gibb's\n",
        "        # sampling where we vectorize over all dimensions\n",
        "        # and sample from all the dimensions at the same time.\n",
        "        H_t = 1. * (np.random.rand(*probs_H.shape) <= probs_H)\n",
        "\n",
        "        probs_V = sigmoid(self.W @ H_t + self.b)\n",
        "        V_tplus1 = 1. * (np.random.rand(*probs_V.shape) <= probs_V)\n",
        "\n",
        "        return V_tplus1\n",
        "\n",
        "    def _gibbs_sampling(self, V_0, burn_in, tune):\n",
        "        r\"\"\"The gibb's sampling step in training to calculate\n",
        "        the estimates of the expectation in the gradient.\n",
        "\n",
        "        Parameters\n",
        "        ----------\n",
        "        V_0: array_like\n",
        "            The visible variables at time step 0.\n",
        "\n",
        "        burn_in: int\n",
        "            The number of samples to disregard from\n",
        "            the chain.\n",
        "\n",
        "        tune: int\n",
        "            The number of samples to use to estimate\n",
        "            the actual expectation\n",
        "\n",
        "        Returns\n",
        "        -------\n",
        "        expectation_w, expectation_b, expectation_c: array_like\n",
        "            The expecation term appearing in the gradients wrt W, b and c\n",
        "            respectively.\n",
        "        \"\"\"\n",
        "        m = self.visible_dims\n",
        "        n = self.hidden_dims\n",
        "\n",
        "        # We start sampling from the markov chain.\n",
        "        V_sampled = self.__gibbs_step(V_0)\n",
        "\n",
        "        # This for loop just \"warms up\" the chain to reach\n",
        "        # its stationary distribution. Please try to keep\n",
        "        # these steps as large as possible to converge to\n",
        "        # the desired distribution!\n",
        "        for _ in range(burn_in):\n",
        "            V_sampled = self.__gibbs_step(V_sampled)\n",
        "\n",
        "        # The chain has now reached its stationary distribution\n",
        "        # and we can start collecting the samples and estimate\n",
        "        # required estimations.\n",
        "        expectation_b = np.sum(V_sampled,\n",
        "                               axis=-1,\n",
        "                               keepdims=True)\n",
        "        expectation_c = np.sum(sigmoid(self.W.T @ V_sampled + self.c),\n",
        "                               axis=-1,\n",
        "                               keepdims=True)\n",
        "        expectation_w = V_sampled @ sigmoid(self.W.T @ V_sampled + self.c).T\n",
        "\n",
        "        # Collect a `tune` number of samples and find the\n",
        "        # sum over them. We will normalize it with `tune`\n",
        "        # later on...\n",
        "        for i in range(tune):\n",
        "            V_sampled = self.__gibbs_step(V_sampled)\n",
        "\n",
        "            expectation_b += np.sum(V_sampled,\n",
        "                                    axis=-1,\n",
        "                                    keepdims=True)\n",
        "            expectation_c += np.sum(sigmoid(self.W.T @ V_sampled + self.c),\n",
        "                                    axis=-1,\n",
        "                                    keepdims=True)\n",
        "            expectation_w += V_sampled @ sigmoid(self.W.T @ V_sampled + self.c).T\n",
        "\n",
        "        # Finally, we have to devide by the number of samples\n",
        "        # we have drawn to calculate the expectation\n",
        "        return (\n",
        "            expectation_w / float(tune),\n",
        "            expectation_b / float(tune),\n",
        "            expectation_c / float(tune)\n",
        "        )\n",
        "\n",
        "    def _contrastive_divergence(self, V_0, burn_in, tune):\n",
        "        r\"\"\"Train using contrastive divergence method\n",
        "\n",
        "        Parameters\n",
        "        ----------\n",
        "        V_0: array_like\n",
        "            A training sample\n",
        "        \n",
        "        burn_in: int\n",
        "            Present for API consistency.\n",
        "        \n",
        "        tune: int\n",
        "            `k` term in `k-contrastive-divergence` algorithm.\n",
        "        \n",
        "        Returns\n",
        "        -------\n",
        "        expectation_w, expectation_b, expectation_c: array_like\n",
        "            The expecation term appearing in the gradients wrt W, b and c\n",
        "            respectively.\n",
        "        \"\"\"\n",
        "        V_tilt = V_0\n",
        "        for _ in range(tune):\n",
        "            V_tilt = self.__gibbs_step(V_tilt)\n",
        "\n",
        "        expectation_b = np.sum(V_tilt,\n",
        "                               axis=-1,\n",
        "                               keepdims=True)\n",
        "        expectation_c = np.sum(sigmoid(self.W.T @ V_tilt + self.c),\n",
        "                               axis=-1,\n",
        "                               keepdims=True)\n",
        "        expectation_w = V_tilt @ sigmoid(self.W.T @ V_tilt + self.c).T\n",
        "        return expectation_w, expectation_b, expectation_c\n",
        "\n",
        "    def _param_grads(self, V, expectation_w, expectation_b, expectation_c):\n",
        "        r\"\"\"Calculate the emperical estimates of the gradients of the energy\n",
        "        function with respect to [W, b, c].\n",
        "\n",
        "        Parameters\n",
        "        ----------\n",
        "        V: array_like\n",
        "            Visible variables/data.\n",
        "        \n",
        "        expectation_w: array_like\n",
        "            Expectation term in the equation for gradient wrt W.\n",
        "        \n",
        "        expectation_b: array_like\n",
        "            Expectation term in the equation for gradient wrt b.\n",
        "\n",
        "        expectation_c: array_like\n",
        "            Expectation term in the equation for gradient wrt c.\n",
        "\n",
        "        Returns\n",
        "        -------\n",
        "        dloss_dW, dloss_db, dloss_dc: tuple\n",
        "            Gradients wrt all the parameters in the order [W, b, c].\n",
        "        \"\"\"\n",
        "        dloss_dW = V @ sigmoid(self.W.T @ V + self.c).T - expectation_w\n",
        "        dloss_db = np.sum(V, axis=-1, keepdims=True) - expectation_b\n",
        "        dloss_dc = np.sum(sigmoid(self.W.T @ V + self.c), axis=-1, keepdims=True) - expectation_c\n",
        "\n",
        "        return dloss_dW, dloss_db, dloss_dc\n",
        "\n",
        "    def _apply_grads(self, lr, dloss_dW, dloss_db, dloss_dc):\n",
        "        \"\"\"Update the parameters [W, b, c] of the model using\n",
        "        stochastic gradient descent.\n",
        "\n",
        "        Parameters\n",
        "        ----------\n",
        "        lr: int\n",
        "            Learning rate of the model\n",
        "        \n",
        "        dloss_dW: array_like\n",
        "            The gradient of energy function wrt W.\n",
        "\n",
        "        dloss_db: array_like\n",
        "            The gradient of energy function wrt b.\n",
        "\n",
        "        dloss_dc: array_like\n",
        "            The gradient of energy function wrt c.\n",
        "        \n",
        "        Returns\n",
        "        -------\n",
        "        None\n",
        "        \"\"\"\n",
        "        # Remember we are perfoming gradient ASSCENT (not descent)\n",
        "        # to MAXIMIZE (not minimize) the energy function!\n",
        "        self.W = self.W + lr * dloss_dW / self.num_examples\n",
        "        self.b = self.b + lr * dloss_db / self.num_examples\n",
        "        self.c = self.c + lr * dloss_dc / self.num_examples\n",
        "\n",
        "    def fit(self, X, lr=0.1, epochs=10, method=\"contrastive_divergence\", burn_in=1000, tune=2000, verbose=False):\n",
        "        r\"\"\"Train the model on provided data\n",
        "\n",
        "        Parameters\n",
        "        ----------\n",
        "        X: array_like\n",
        "            The data array of shape (n_samples, n_features)\n",
        "        \n",
        "        lr: float, optional\n",
        "            The learning rate of the model. Defaults to 0.1\n",
        "\n",
        "        epochs: int, optional\n",
        "            The number of steps to train your model\n",
        "        \n",
        "        method: string, optional\n",
        "            Can be either \"gitbbs_sampling\" or \"constrastive_divergence\".\n",
        "            Defaults to \"constrastive_divergence\"\n",
        "\n",
        "        burn_in: int, optional\n",
        "            The number of steps to warm the markov chain up\n",
        "\n",
        "        tune: int, optional\n",
        "            The number of samples to generate from the merkov chain\n",
        "        \n",
        "        verbose: bool, optional\n",
        "            Weather to log the epochs or not.\n",
        "        \"\"\"\n",
        "        # We want to vectorize over multiple batches\n",
        "        # and so we have to reshape our data to `(n_features, n_samples)`\n",
        "        X = X.T\n",
        "        self.num_examples = X.shape[1]\n",
        "        self.visible_dims = X.shape[0]\n",
        "\n",
        "        m = self.visible_dims\n",
        "        n = self.hidden_dims\n",
        "\n",
        "        # Initialize the parameters [W, b, c] of our model\n",
        "        self._init_params(m)\n",
        "\n",
        "        # Run the training for provided number of epochs\n",
        "        for _ in range(epochs):\n",
        "            # Emperically calculate the expectation using our markov chain.\n",
        "            if method == \"gibbs_sampling\":\n",
        "                _method = self._gibbs_sampling\n",
        "            elif method == \"contrastive_divergence\":\n",
        "                _method = self._contrastive_divergence\n",
        "            else:\n",
        "                raise ValueError(f\"invalid method: {method}. You sholud inherit this \"\n",
        "                                 f\"class and implement the method with an `_` at\"\n",
        "                                 f\"the start to use it instead of built-in methods.\")\n",
        "\n",
        "            V_0 = X\n",
        "            Ew, Eb, Ec = _method(V_0, burn_in=burn_in, tune=tune)\n",
        "\n",
        "            # Using the emperical estimates of the expectation, calculate\n",
        "            # the gradients wrt all our parameters\n",
        "            dloss_dW, dloss_db, dloss_dc = self._param_grads(X, Ew, Eb, Ec)\n",
        "\n",
        "            # Update the parameters\n",
        "            self._apply_grads(lr, dloss_dW, dloss_db, dloss_dc)\n",
        "\n",
        "            if verbose:\n",
        "                sys.stdout.write(f\"\\rEpoch {_+1}\")\n",
        "\n",
        "        return self\n",
        "\n",
        "    def decode(self, H=None, return_proba=False):\n",
        "        \"\"\"Move from latent space to data space. Acts like a generator.\n",
        "\n",
        "        Parameters\n",
        "        ----------\n",
        "        H: array_like, optional\n",
        "            A vector of latent/hidden variables. If `None`, then it is\n",
        "            randomly initialized\n",
        "\n",
        "        Returns\n",
        "        -------\n",
        "        decoded: array_like\n",
        "            The generated data from given latent space\n",
        "        \"\"\"\n",
        "        # We generate a random latent space if not given\n",
        "        if H is None:\n",
        "            H = 1. * (np.random.rand(self.hidden_dims, 1) >= 0.5)\n",
        "\n",
        "        # We sample the Vs given Hs.\n",
        "        probs_V = sigmoid(self.W @ H + self.b)\n",
        "        if return_proba:\n",
        "            return probs_V\n",
        "        return 1. * (np.random.rand(*probs_V.shape) <= probs_V)\n",
        "\n",
        "    def encode(self, V):\n",
        "        \"\"\"Encode the given data in its latent variables.\n",
        "\n",
        "        Parameters\n",
        "        ----------\n",
        "        V: array_like\n",
        "            The data to be encoded\n",
        "\n",
        "        Returns\n",
        "        -------\n",
        "        encoded: array_like\n",
        "            An encoded vector of the given data\n",
        "        \"\"\"\n",
        "        # We will sampe a random H for a given V.\n",
        "        probs_H = sigmoid(self.W.T @ V + self.c)\n",
        "        return 1. * (np.random.rand(*probs_H.shape) <= probs_H)\n",
        "\n",
        "    def generate_smooth(self):\n",
        "        \"\"\"Generate a continuous input space.\n",
        "\n",
        "        Returns\n",
        "        -------\n",
        "        generated: array-like\n",
        "            An array of generated input space.\n",
        "        \"\"\"\n",
        "        return self.decode(return_proba=True)"
      ],
      "execution_count": 0,
      "outputs": []
    },
    {
      "cell_type": "code",
      "metadata": {
        "id": "RGP0O_0aBI5N",
        "colab_type": "code",
        "outputId": "f3022cd7-cd26-4b31-b5d9-cb187de77f9a",
        "colab": {
          "base_uri": "https://localhost:8080/",
          "height": 1000
        }
      },
      "source": [
        "import numpy as np\n",
        "import matplotlib.pyplot as plt\n",
        "from keras.datasets import mnist\n",
        "\n",
        "(X_train, y), (_, _) = mnist.load_data()\n",
        "\n",
        "# Normalize and reshape\n",
        "X_train = X_train.reshape(60000, -1)\n",
        "X_train = 1. * ((X_train[y == 5] / 255.) >= 0.5)\n",
        "\n",
        "# Plot some training isntances\n",
        "fig, ax = plt.subplots(nrows=3, ncols=3, figsize=(10, 10))\n",
        "ax[0, 0].imshow(X_train[10].reshape(28, 28))\n",
        "ax[0, 1].imshow(X_train[11].reshape(28, 28))\n",
        "ax[0, 2].imshow(X_train[12].reshape(28, 28))\n",
        "ax[1, 0].imshow(X_train[13].reshape(28, 28))\n",
        "ax[1, 1].imshow(X_train[14].reshape(28, 28))\n",
        "ax[1, 2].imshow(X_train[15].reshape(28, 28))\n",
        "ax[2, 0].imshow(X_train[16].reshape(28, 28))\n",
        "ax[2, 1].imshow(X_train[17].reshape(28, 28))\n",
        "ax[2, 2].imshow(X_train[18].reshape(28, 28))\n",
        "fig.suptitle(\"Training instances\")\n",
        "plt.show()\n",
        "\n",
        "# We will mainly experiment with different latent space\n",
        "# dimensions. For this instance, i have a 30-D latent space.\n",
        "hidden_dims = 3\n",
        "\n",
        "# Define our model\n",
        "model = BinaryRestrictedBoltzmannMachine(hidden_dims)\n",
        "\n",
        "# Train the model on our dataset with learning rate 1.0\n",
        "model.fit(X_train, lr=1.0, burn_in=None, tune=1, epochs=100, verbose=True)\n",
        "\n",
        "# Use the `decode()` method to generate an image.\n",
        "images = [model.generate_smooth() for _ in range(9)]\n",
        "\n",
        "fig, ax = plt.subplots(nrows=3, ncols=3, figsize=(10, 10))\n",
        "ax[0, 0].imshow(images[0].reshape(28, 28))\n",
        "ax[0, 1].imshow(images[1].reshape(28, 28))\n",
        "ax[0, 2].imshow(images[2].reshape(28, 28))\n",
        "ax[1, 0].imshow(images[3].reshape(28, 28))\n",
        "ax[1, 1].imshow(images[4].reshape(28, 28))\n",
        "ax[1, 2].imshow(images[5].reshape(28, 28))\n",
        "ax[2, 0].imshow(images[6].reshape(28, 28))\n",
        "ax[2, 1].imshow(images[7].reshape(28, 28))\n",
        "ax[2, 2].imshow(images[8].reshape(28, 28))\n",
        "fig.suptitle(\"Generated instances\")\n",
        "plt.show()"
      ],
      "execution_count": 2,
      "outputs": [
        {
          "output_type": "stream",
          "text": [
            "Using TensorFlow backend.\n"
          ],
          "name": "stderr"
        },
        {
          "output_type": "display_data",
          "data": {
            "image/png": "[encoded data removed]",
            "text/plain": [
              "<Figure size 720x720 with 9 Axes>"
            ]
          },
          "metadata": {
            "tags": [],
            "needs_background": "light"
          }
        },
        {
          "output_type": "stream",
          "text": [
            "Epoch 100"
          ],
          "name": "stdout"
        },
        {
          "output_type": "display_data",
          "data": {
            "image/png": "[encoded data removed]",
            "text/plain": [
              "<Figure size 720x720 with 9 Axes>"
            ]
          },
          "metadata": {
            "tags": [],
            "needs_background": "light"
          }
        }
      ]
    },
    {
      "cell_type": "code",
      "metadata": {
        "id": "eD5c5nBRsylb",
        "colab_type": "code",
        "outputId": "c3294d46-4318-4798-a17f-83684fedac5c",
        "colab": {
          "base_uri": "https://localhost:8080/",
          "height": 282
        }
      },
      "source": [
        "plt.imshow(X_train[34].reshape(28, 28))"
      ],
      "execution_count": 7,
      "outputs": [
        {
          "output_type": "execute_result",
          "data": {
            "text/plain": [
              "<matplotlib.image.AxesImage at 0x7f8172b3e668>"
            ]
          },
          "metadata": {
            "tags": []
          },
          "execution_count": 7
        },
        {
          "output_type": "display_data",
          "data": {
            "image/png": "[encoded data removed]",
            "text/plain": [
              "<Figure size 432x288 with 1 Axes>"
            ]
          },
          "metadata": {
            "tags": [],
            "needs_background": "light"
          }
        }
      ]
    },
    {
      "cell_type": "code",
      "metadata": {
        "id": "FZ8Xlf1NQycS",
        "colab_type": "code",
        "colab": {}
      },
      "source": [
        "encoded = model.encode(X_train[34].reshape(-1, 1))"
      ],
      "execution_count": 0,
      "outputs": []
    },
    {
      "cell_type": "code",
      "metadata": {
        "id": "22vogUrEtRrW",
        "colab_type": "code",
        "outputId": "188c8c5b-b993-4dcd-aa66-12bb0553c01d",
        "colab": {
          "base_uri": "https://localhost:8080/",
          "height": 34
        }
      },
      "source": [
        "encoded.shape"
      ],
      "execution_count": 5,
      "outputs": [
        {
          "output_type": "execute_result",
          "data": {
            "text/plain": [
              "(3, 1)"
            ]
          },
          "metadata": {
            "tags": []
          },
          "execution_count": 5
        }
      ]
    },
    {
      "cell_type": "code",
      "metadata": {
        "id": "xF6fcYhAse_w",
        "colab_type": "code",
        "outputId": "b7c7cca6-5486-482c-d7dc-f43014b18cdf",
        "colab": {
          "base_uri": "https://localhost:8080/",
          "height": 282
        }
      },
      "source": [
        "decoded = model.decode(encoded, return_proba=True)\n",
        "plt.imshow(decoded.reshape(28, 28))"
      ],
      "execution_count": 6,
      "outputs": [
        {
          "output_type": "execute_result",
          "data": {
            "text/plain": [
              "<matplotlib.image.AxesImage at 0x7f8172881668>"
            ]
          },
          "metadata": {
            "tags": []
          },
          "execution_count": 6
        },
        {
          "output_type": "display_data",
          "data": {
            "image/png": "[encoded data removed]",
            "text/plain": [
              "<Figure size 432x288 with 1 Axes>"
            ]
          },
          "metadata": {
            "tags": [],
            "needs_background": "light"
          }
        }
      ]
    },
    {
      "cell_type": "code",
      "metadata": {
        "id": "IyT4ROu3tYBa",
        "colab_type": "code",
        "colab": {}
      },
      "source": [
        ""
      ],
      "execution_count": 0,
      "outputs": []
    }
  ]
}